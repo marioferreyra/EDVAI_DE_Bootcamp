{
 "cells": [
  {
   "cell_type": "markdown",
   "id": "9c326841-03e7-4cfb-aa21-697158b1dc5d",
   "metadata": {},
   "source": [
    "# Bootcamp Data Engineering\n",
    "\n",
    "<img src=\"https://i.ibb.co/5RM26Cw/LOGO-COLOR2.png\" width=\"500px\">"
   ]
  },
  {
   "cell_type": "markdown",
   "id": "05923d35-244f-4851-adc0-1ed45a7b84d5",
   "metadata": {},
   "source": [
    "---"
   ]
  },
  {
   "cell_type": "markdown",
   "id": "f659382b-f632-47b2-8a77-9470d1495d48",
   "metadata": {},
   "source": [
    "# 1) Cargamos la Data"
   ]
  },
  {
   "cell_type": "code",
   "execution_count": 1,
   "id": "5ffa8386-d77a-445b-b50a-89ee5575bb07",
   "metadata": {},
   "outputs": [],
   "source": [
    "import pandas as pd\n",
    "import numpy as np\n",
    "\n",
    "from datetime import datetime"
   ]
  },
  {
   "cell_type": "code",
   "execution_count": 2,
   "id": "aea4e31d-ca92-47c3-9a5a-9eaec9c05df2",
   "metadata": {},
   "outputs": [
    {
     "name": "stdout",
     "output_type": "stream",
     "text": [
      "(30, 12)\n",
      "Index(['Nombre Completo Empleado', 'Area', 'Fecha comienzo', 'Fecha fin',\n",
      "       'Dias transcurridos', 'Nivel', 'Grupo recruitment',\n",
      "       'Tiempo recruitment', 'Realizo Cursos', 'RS promedio actual',\n",
      "       'RS competencia actual', 'Nombre Completo Manager'],\n",
      "      dtype='object')\n"
     ]
    },
    {
     "data": {
      "text/html": [
       "<div>\n",
       "<style scoped>\n",
       "    .dataframe tbody tr th:only-of-type {\n",
       "        vertical-align: middle;\n",
       "    }\n",
       "\n",
       "    .dataframe tbody tr th {\n",
       "        vertical-align: top;\n",
       "    }\n",
       "\n",
       "    .dataframe thead th {\n",
       "        text-align: right;\n",
       "    }\n",
       "</style>\n",
       "<table border=\"1\" class=\"dataframe\">\n",
       "  <thead>\n",
       "    <tr style=\"text-align: right;\">\n",
       "      <th></th>\n",
       "      <th>Nombre Completo Empleado</th>\n",
       "      <th>Area</th>\n",
       "      <th>Fecha comienzo</th>\n",
       "      <th>Fecha fin</th>\n",
       "      <th>Dias transcurridos</th>\n",
       "      <th>Nivel</th>\n",
       "      <th>Grupo recruitment</th>\n",
       "      <th>Tiempo recruitment</th>\n",
       "      <th>Realizo Cursos</th>\n",
       "      <th>RS promedio actual</th>\n",
       "      <th>RS competencia actual</th>\n",
       "      <th>Nombre Completo Manager</th>\n",
       "    </tr>\n",
       "  </thead>\n",
       "  <tbody>\n",
       "    <tr>\n",
       "      <th>26</th>\n",
       "      <td>Rodrigo Molinas</td>\n",
       "      <td>Compras</td>\n",
       "      <td>2019-06-03</td>\n",
       "      <td>2022-04-30</td>\n",
       "      <td>1062</td>\n",
       "      <td>N2</td>\n",
       "      <td>Grupo A</td>\n",
       "      <td>4</td>\n",
       "      <td>SI</td>\n",
       "      <td>225000.5</td>\n",
       "      <td>225000.5</td>\n",
       "      <td>Marina Pitana</td>\n",
       "    </tr>\n",
       "    <tr>\n",
       "      <th>5</th>\n",
       "      <td>Catalina Gómez</td>\n",
       "      <td>Producción</td>\n",
       "      <td>2019-04-01</td>\n",
       "      <td>2022-03-31</td>\n",
       "      <td>1095</td>\n",
       "      <td>N2</td>\n",
       "      <td>Grupo B</td>\n",
       "      <td>4</td>\n",
       "      <td>NO</td>\n",
       "      <td>225000.5</td>\n",
       "      <td>225000.5</td>\n",
       "      <td>Miriam Pisani</td>\n",
       "    </tr>\n",
       "    <tr>\n",
       "      <th>13</th>\n",
       "      <td>Raul García</td>\n",
       "      <td>Ventas</td>\n",
       "      <td>2019-02-04</td>\n",
       "      <td>2020-03-31</td>\n",
       "      <td>421</td>\n",
       "      <td>N3</td>\n",
       "      <td>Grupo C</td>\n",
       "      <td>6</td>\n",
       "      <td>SI</td>\n",
       "      <td>275000.5</td>\n",
       "      <td>275000.5</td>\n",
       "      <td>Ricardo Ronaldo</td>\n",
       "    </tr>\n",
       "    <tr>\n",
       "      <th>24</th>\n",
       "      <td>Carolina Petersen</td>\n",
       "      <td>Ventas</td>\n",
       "      <td>2021-07-05</td>\n",
       "      <td>2022-02-28</td>\n",
       "      <td>238</td>\n",
       "      <td>N7</td>\n",
       "      <td>Grupo B</td>\n",
       "      <td>4</td>\n",
       "      <td>SI</td>\n",
       "      <td>450000.5</td>\n",
       "      <td>450000.5</td>\n",
       "      <td>Ricardo Ronaldo</td>\n",
       "    </tr>\n",
       "    <tr>\n",
       "      <th>20</th>\n",
       "      <td>Cristian Martin</td>\n",
       "      <td>Compras</td>\n",
       "      <td>2017-11-06</td>\n",
       "      <td>2020-12-31</td>\n",
       "      <td>1151</td>\n",
       "      <td>N5</td>\n",
       "      <td>Grupo C</td>\n",
       "      <td>4</td>\n",
       "      <td>SI</td>\n",
       "      <td>450000.5</td>\n",
       "      <td>375000.5</td>\n",
       "      <td>Marina Pitana</td>\n",
       "    </tr>\n",
       "  </tbody>\n",
       "</table>\n",
       "</div>"
      ],
      "text/plain": [
       "   Nombre Completo Empleado        Area Fecha comienzo   Fecha fin  \\\n",
       "26          Rodrigo Molinas     Compras     2019-06-03  2022-04-30   \n",
       "5            Catalina Gómez  Producción     2019-04-01  2022-03-31   \n",
       "13              Raul García      Ventas     2019-02-04  2020-03-31   \n",
       "24        Carolina Petersen      Ventas     2021-07-05  2022-02-28   \n",
       "20          Cristian Martin     Compras     2017-11-06  2020-12-31   \n",
       "\n",
       "    Dias transcurridos Nivel Grupo recruitment  Tiempo recruitment  \\\n",
       "26                1062    N2           Grupo A                   4   \n",
       "5                 1095    N2           Grupo B                   4   \n",
       "13                 421    N3           Grupo C                   6   \n",
       "24                 238    N7           Grupo B                   4   \n",
       "20                1151    N5           Grupo C                   4   \n",
       "\n",
       "   Realizo Cursos  RS promedio actual  RS competencia actual  \\\n",
       "26             SI            225000.5               225000.5   \n",
       "5              NO            225000.5               225000.5   \n",
       "13             SI            275000.5               275000.5   \n",
       "24             SI            450000.5               450000.5   \n",
       "20             SI            450000.5               375000.5   \n",
       "\n",
       "   Nombre Completo Manager  \n",
       "26           Marina Pitana  \n",
       "5            Miriam Pisani  \n",
       "13         Ricardo Ronaldo  \n",
       "24         Ricardo Ronaldo  \n",
       "20           Marina Pitana  "
      ]
     },
     "metadata": {},
     "output_type": "display_data"
    }
   ],
   "source": [
    "df_data = pd.read_csv(\"data/Ultimas_Desvinculaciones-FullData.csv\", sep=',')\n",
    "print(df_data.shape)\n",
    "print(df_data.columns)\n",
    "display(df_data.sample(5))"
   ]
  },
  {
   "cell_type": "code",
   "execution_count": 3,
   "id": "b70a48b3-5ccd-41c3-b90b-bbe02fcaef10",
   "metadata": {
    "tags": []
   },
   "outputs": [
    {
     "data": {
      "text/plain": [
       "Nombre Completo Empleado     object\n",
       "Area                         object\n",
       "Fecha comienzo               object\n",
       "Fecha fin                    object\n",
       "Dias transcurridos            int64\n",
       "Nivel                        object\n",
       "Grupo recruitment            object\n",
       "Tiempo recruitment            int64\n",
       "Realizo Cursos               object\n",
       "RS promedio actual          float64\n",
       "RS competencia actual       float64\n",
       "Nombre Completo Manager      object\n",
       "dtype: object"
      ]
     },
     "metadata": {},
     "output_type": "display_data"
    }
   ],
   "source": [
    "display(df_data.dtypes)"
   ]
  },
  {
   "cell_type": "code",
   "execution_count": 4,
   "id": "024dbcbb-b2b2-4636-9942-cc59fc10c76b",
   "metadata": {},
   "outputs": [],
   "source": [
    "def define_rs(current_rs: float, competition_rs: float) -> str:\n",
    "    if current_rs > competition_rs:\n",
    "        return 'peor'\n",
    "    elif current_rs < competition_rs: \n",
    "        return 'mejor'\n",
    "    else:\n",
    "        return 'igual'\n",
    "\n",
    "\n",
    "df_data['Diferencia RS competencia'] = df_data.apply(lambda row: define_rs(row['RS promedio actual'], row['RS competencia actual']), axis=1)"
   ]
  },
  {
   "cell_type": "code",
   "execution_count": 5,
   "id": "a6d60389-626c-44e9-b6e1-1e4ac36bb879",
   "metadata": {},
   "outputs": [
    {
     "data": {
      "text/html": [
       "<div>\n",
       "<style scoped>\n",
       "    .dataframe tbody tr th:only-of-type {\n",
       "        vertical-align: middle;\n",
       "    }\n",
       "\n",
       "    .dataframe tbody tr th {\n",
       "        vertical-align: top;\n",
       "    }\n",
       "\n",
       "    .dataframe thead th {\n",
       "        text-align: right;\n",
       "    }\n",
       "</style>\n",
       "<table border=\"1\" class=\"dataframe\">\n",
       "  <thead>\n",
       "    <tr style=\"text-align: right;\">\n",
       "      <th></th>\n",
       "      <th>Nombre Completo Empleado</th>\n",
       "      <th>Area</th>\n",
       "      <th>Fecha comienzo</th>\n",
       "      <th>Fecha fin</th>\n",
       "      <th>Dias transcurridos</th>\n",
       "      <th>Nivel</th>\n",
       "      <th>Grupo recruitment</th>\n",
       "      <th>Tiempo recruitment</th>\n",
       "      <th>Realizo Cursos</th>\n",
       "      <th>RS promedio actual</th>\n",
       "      <th>RS competencia actual</th>\n",
       "      <th>Nombre Completo Manager</th>\n",
       "      <th>Diferencia RS competencia</th>\n",
       "    </tr>\n",
       "  </thead>\n",
       "  <tbody>\n",
       "    <tr>\n",
       "      <th>0</th>\n",
       "      <td>Romina Brito</td>\n",
       "      <td>Marketing</td>\n",
       "      <td>2018-03-05</td>\n",
       "      <td>2018-12-31</td>\n",
       "      <td>301</td>\n",
       "      <td>N3</td>\n",
       "      <td>Grupo B</td>\n",
       "      <td>3</td>\n",
       "      <td>SI</td>\n",
       "      <td>275000.5</td>\n",
       "      <td>275000.5</td>\n",
       "      <td>Rolando Casas</td>\n",
       "      <td>igual</td>\n",
       "    </tr>\n",
       "    <tr>\n",
       "      <th>1</th>\n",
       "      <td>Pedro Lujan</td>\n",
       "      <td>Compras</td>\n",
       "      <td>2017-03-06</td>\n",
       "      <td>2021-12-31</td>\n",
       "      <td>1761</td>\n",
       "      <td>N3</td>\n",
       "      <td>Grupo B</td>\n",
       "      <td>3</td>\n",
       "      <td>SI</td>\n",
       "      <td>225000.5</td>\n",
       "      <td>225000.5</td>\n",
       "      <td>Marina Pitana</td>\n",
       "      <td>igual</td>\n",
       "    </tr>\n",
       "    <tr>\n",
       "      <th>2</th>\n",
       "      <td>Juan Albornoz</td>\n",
       "      <td>IT</td>\n",
       "      <td>2018-06-04</td>\n",
       "      <td>2019-04-30</td>\n",
       "      <td>330</td>\n",
       "      <td>N4</td>\n",
       "      <td>Grupo C</td>\n",
       "      <td>4</td>\n",
       "      <td>NO</td>\n",
       "      <td>325000.5</td>\n",
       "      <td>325000.5</td>\n",
       "      <td>Alejandro Pitorino</td>\n",
       "      <td>igual</td>\n",
       "    </tr>\n",
       "    <tr>\n",
       "      <th>3</th>\n",
       "      <td>Sebastian González</td>\n",
       "      <td>Legales</td>\n",
       "      <td>2018-05-07</td>\n",
       "      <td>2021-05-30</td>\n",
       "      <td>1119</td>\n",
       "      <td>N2</td>\n",
       "      <td>Grupo A</td>\n",
       "      <td>4</td>\n",
       "      <td>SI</td>\n",
       "      <td>225000.5</td>\n",
       "      <td>225000.5</td>\n",
       "      <td>José Feligres</td>\n",
       "      <td>igual</td>\n",
       "    </tr>\n",
       "    <tr>\n",
       "      <th>4</th>\n",
       "      <td>Franco Rodríguez</td>\n",
       "      <td>Marketing</td>\n",
       "      <td>2017-05-01</td>\n",
       "      <td>2017-11-30</td>\n",
       "      <td>213</td>\n",
       "      <td>N5</td>\n",
       "      <td>Grupo C</td>\n",
       "      <td>6</td>\n",
       "      <td>SI</td>\n",
       "      <td>375000.5</td>\n",
       "      <td>325000.5</td>\n",
       "      <td>Rolando Casas</td>\n",
       "      <td>peor</td>\n",
       "    </tr>\n",
       "    <tr>\n",
       "      <th>5</th>\n",
       "      <td>Catalina Gómez</td>\n",
       "      <td>Producción</td>\n",
       "      <td>2019-04-01</td>\n",
       "      <td>2022-03-31</td>\n",
       "      <td>1095</td>\n",
       "      <td>N2</td>\n",
       "      <td>Grupo B</td>\n",
       "      <td>4</td>\n",
       "      <td>NO</td>\n",
       "      <td>225000.5</td>\n",
       "      <td>225000.5</td>\n",
       "      <td>Miriam Pisani</td>\n",
       "      <td>igual</td>\n",
       "    </tr>\n",
       "    <tr>\n",
       "      <th>6</th>\n",
       "      <td>Anabella Fernández</td>\n",
       "      <td>Ventas</td>\n",
       "      <td>2020-07-06</td>\n",
       "      <td>2021-03-31</td>\n",
       "      <td>268</td>\n",
       "      <td>N4</td>\n",
       "      <td>Grupo A</td>\n",
       "      <td>3</td>\n",
       "      <td>NO</td>\n",
       "      <td>325000.5</td>\n",
       "      <td>325000.5</td>\n",
       "      <td>Ricardo Ronaldo</td>\n",
       "      <td>igual</td>\n",
       "    </tr>\n",
       "    <tr>\n",
       "      <th>7</th>\n",
       "      <td>Francesca López</td>\n",
       "      <td>Compras</td>\n",
       "      <td>2017-01-02</td>\n",
       "      <td>2021-06-30</td>\n",
       "      <td>1640</td>\n",
       "      <td>N3</td>\n",
       "      <td>Grupo A</td>\n",
       "      <td>4</td>\n",
       "      <td>SI</td>\n",
       "      <td>275000.5</td>\n",
       "      <td>275000.5</td>\n",
       "      <td>Marina Pitana</td>\n",
       "      <td>igual</td>\n",
       "    </tr>\n",
       "    <tr>\n",
       "      <th>8</th>\n",
       "      <td>Nicolas Martínez</td>\n",
       "      <td>IT</td>\n",
       "      <td>2021-01-04</td>\n",
       "      <td>2021-11-30</td>\n",
       "      <td>330</td>\n",
       "      <td>N2</td>\n",
       "      <td>Grupo C</td>\n",
       "      <td>6</td>\n",
       "      <td>SI</td>\n",
       "      <td>275000.5</td>\n",
       "      <td>275000.5</td>\n",
       "      <td>Alejandro Pitorino</td>\n",
       "      <td>igual</td>\n",
       "    </tr>\n",
       "    <tr>\n",
       "      <th>9</th>\n",
       "      <td>Ana Diaz</td>\n",
       "      <td>IT</td>\n",
       "      <td>2017-03-06</td>\n",
       "      <td>2020-11-30</td>\n",
       "      <td>1365</td>\n",
       "      <td>N4</td>\n",
       "      <td>Grupo A</td>\n",
       "      <td>3</td>\n",
       "      <td>NO</td>\n",
       "      <td>275000.5</td>\n",
       "      <td>275000.5</td>\n",
       "      <td>Martín Viglia</td>\n",
       "      <td>igual</td>\n",
       "    </tr>\n",
       "    <tr>\n",
       "      <th>10</th>\n",
       "      <td>Roberto Pérez</td>\n",
       "      <td>Marketing</td>\n",
       "      <td>2019-07-01</td>\n",
       "      <td>2022-04-30</td>\n",
       "      <td>1034</td>\n",
       "      <td>N5</td>\n",
       "      <td>Grupo B</td>\n",
       "      <td>5</td>\n",
       "      <td>SI</td>\n",
       "      <td>375000.5</td>\n",
       "      <td>375000.5</td>\n",
       "      <td>Vanina Quintana</td>\n",
       "      <td>igual</td>\n",
       "    </tr>\n",
       "    <tr>\n",
       "      <th>11</th>\n",
       "      <td>Luis Sánchez</td>\n",
       "      <td>Ventas</td>\n",
       "      <td>2020-07-13</td>\n",
       "      <td>2020-12-31</td>\n",
       "      <td>171</td>\n",
       "      <td>N5</td>\n",
       "      <td>Grupo C</td>\n",
       "      <td>5</td>\n",
       "      <td>NO</td>\n",
       "      <td>450000.5</td>\n",
       "      <td>450000.5</td>\n",
       "      <td>Ricardo Ronaldo</td>\n",
       "      <td>igual</td>\n",
       "    </tr>\n",
       "    <tr>\n",
       "      <th>12</th>\n",
       "      <td>Alejandro Romero</td>\n",
       "      <td>IT</td>\n",
       "      <td>2020-06-01</td>\n",
       "      <td>2022-02-28</td>\n",
       "      <td>637</td>\n",
       "      <td>N3</td>\n",
       "      <td>Grupo A</td>\n",
       "      <td>3</td>\n",
       "      <td>SI</td>\n",
       "      <td>325000.5</td>\n",
       "      <td>275000.5</td>\n",
       "      <td>Martín Viglia</td>\n",
       "      <td>peor</td>\n",
       "    </tr>\n",
       "    <tr>\n",
       "      <th>13</th>\n",
       "      <td>Raul García</td>\n",
       "      <td>Ventas</td>\n",
       "      <td>2019-02-04</td>\n",
       "      <td>2020-03-31</td>\n",
       "      <td>421</td>\n",
       "      <td>N3</td>\n",
       "      <td>Grupo C</td>\n",
       "      <td>6</td>\n",
       "      <td>SI</td>\n",
       "      <td>275000.5</td>\n",
       "      <td>275000.5</td>\n",
       "      <td>Ricardo Ronaldo</td>\n",
       "      <td>igual</td>\n",
       "    </tr>\n",
       "    <tr>\n",
       "      <th>14</th>\n",
       "      <td>Analia Sosa</td>\n",
       "      <td>Compras</td>\n",
       "      <td>2018-10-01</td>\n",
       "      <td>2021-11-30</td>\n",
       "      <td>1156</td>\n",
       "      <td>N4</td>\n",
       "      <td>Grupo A</td>\n",
       "      <td>4</td>\n",
       "      <td>NO</td>\n",
       "      <td>325000.5</td>\n",
       "      <td>325000.5</td>\n",
       "      <td>Marina Pitana</td>\n",
       "      <td>igual</td>\n",
       "    </tr>\n",
       "    <tr>\n",
       "      <th>15</th>\n",
       "      <td>Vanina Benítez</td>\n",
       "      <td>IT</td>\n",
       "      <td>2019-08-05</td>\n",
       "      <td>2020-04-30</td>\n",
       "      <td>269</td>\n",
       "      <td>N5</td>\n",
       "      <td>Grupo C</td>\n",
       "      <td>5</td>\n",
       "      <td>SI</td>\n",
       "      <td>450000.5</td>\n",
       "      <td>450000.5</td>\n",
       "      <td>Alejandro Pitorino</td>\n",
       "      <td>igual</td>\n",
       "    </tr>\n",
       "    <tr>\n",
       "      <th>16</th>\n",
       "      <td>Guillermo Ramírez</td>\n",
       "      <td>IT</td>\n",
       "      <td>2020-01-06</td>\n",
       "      <td>2022-05-31</td>\n",
       "      <td>876</td>\n",
       "      <td>N2</td>\n",
       "      <td>Grupo A</td>\n",
       "      <td>3</td>\n",
       "      <td>NO</td>\n",
       "      <td>225000.5</td>\n",
       "      <td>225000.5</td>\n",
       "      <td>Martín Viglia</td>\n",
       "      <td>igual</td>\n",
       "    </tr>\n",
       "    <tr>\n",
       "      <th>17</th>\n",
       "      <td>Pedro Torres</td>\n",
       "      <td>Marketing</td>\n",
       "      <td>2017-04-03</td>\n",
       "      <td>2019-12-31</td>\n",
       "      <td>1002</td>\n",
       "      <td>N3</td>\n",
       "      <td>Grupo B</td>\n",
       "      <td>4</td>\n",
       "      <td>SI</td>\n",
       "      <td>275000.5</td>\n",
       "      <td>275000.5</td>\n",
       "      <td>Vanina Quintana</td>\n",
       "      <td>igual</td>\n",
       "    </tr>\n",
       "    <tr>\n",
       "      <th>18</th>\n",
       "      <td>Rocio Ruiz</td>\n",
       "      <td>Auditoria</td>\n",
       "      <td>2018-02-05</td>\n",
       "      <td>2021-01-30</td>\n",
       "      <td>1090</td>\n",
       "      <td>N4</td>\n",
       "      <td>Grupo A</td>\n",
       "      <td>4</td>\n",
       "      <td>NO</td>\n",
       "      <td>325000.5</td>\n",
       "      <td>375000.5</td>\n",
       "      <td>Daniel Quiroga</td>\n",
       "      <td>mejor</td>\n",
       "    </tr>\n",
       "    <tr>\n",
       "      <th>19</th>\n",
       "      <td>Marcelo Flores</td>\n",
       "      <td>Ventas</td>\n",
       "      <td>2021-09-06</td>\n",
       "      <td>2022-05-31</td>\n",
       "      <td>267</td>\n",
       "      <td>N2</td>\n",
       "      <td>Grupo C</td>\n",
       "      <td>6</td>\n",
       "      <td>SI</td>\n",
       "      <td>225000.5</td>\n",
       "      <td>225000.5</td>\n",
       "      <td>Ricardo Ronaldo</td>\n",
       "      <td>igual</td>\n",
       "    </tr>\n",
       "    <tr>\n",
       "      <th>20</th>\n",
       "      <td>Cristian Martin</td>\n",
       "      <td>Compras</td>\n",
       "      <td>2017-11-06</td>\n",
       "      <td>2020-12-31</td>\n",
       "      <td>1151</td>\n",
       "      <td>N5</td>\n",
       "      <td>Grupo C</td>\n",
       "      <td>4</td>\n",
       "      <td>SI</td>\n",
       "      <td>450000.5</td>\n",
       "      <td>375000.5</td>\n",
       "      <td>Marina Pitana</td>\n",
       "      <td>peor</td>\n",
       "    </tr>\n",
       "    <tr>\n",
       "      <th>21</th>\n",
       "      <td>Matias Bosques</td>\n",
       "      <td>Ventas</td>\n",
       "      <td>2018-12-03</td>\n",
       "      <td>2021-06-30</td>\n",
       "      <td>940</td>\n",
       "      <td>N4</td>\n",
       "      <td>Grupo B</td>\n",
       "      <td>3</td>\n",
       "      <td>SI</td>\n",
       "      <td>325000.5</td>\n",
       "      <td>325000.5</td>\n",
       "      <td>Ricardo Ronaldo</td>\n",
       "      <td>igual</td>\n",
       "    </tr>\n",
       "    <tr>\n",
       "      <th>22</th>\n",
       "      <td>Camila Prieto</td>\n",
       "      <td>IT</td>\n",
       "      <td>2022-01-03</td>\n",
       "      <td>2022-07-01</td>\n",
       "      <td>179</td>\n",
       "      <td>N6</td>\n",
       "      <td>Grupo C</td>\n",
       "      <td>6</td>\n",
       "      <td>NO</td>\n",
       "      <td>450000.5</td>\n",
       "      <td>450000.5</td>\n",
       "      <td>Alejandro Pitorino</td>\n",
       "      <td>igual</td>\n",
       "    </tr>\n",
       "    <tr>\n",
       "      <th>23</th>\n",
       "      <td>Micaela Pauls</td>\n",
       "      <td>Producción</td>\n",
       "      <td>2019-01-07</td>\n",
       "      <td>2021-12-31</td>\n",
       "      <td>1089</td>\n",
       "      <td>N6</td>\n",
       "      <td>Grupo A</td>\n",
       "      <td>5</td>\n",
       "      <td>SI</td>\n",
       "      <td>450000.5</td>\n",
       "      <td>450000.5</td>\n",
       "      <td>Miriam Pisani</td>\n",
       "      <td>igual</td>\n",
       "    </tr>\n",
       "    <tr>\n",
       "      <th>24</th>\n",
       "      <td>Carolina Petersen</td>\n",
       "      <td>Ventas</td>\n",
       "      <td>2021-07-05</td>\n",
       "      <td>2022-02-28</td>\n",
       "      <td>238</td>\n",
       "      <td>N7</td>\n",
       "      <td>Grupo B</td>\n",
       "      <td>4</td>\n",
       "      <td>SI</td>\n",
       "      <td>450000.5</td>\n",
       "      <td>450000.5</td>\n",
       "      <td>Ricardo Ronaldo</td>\n",
       "      <td>igual</td>\n",
       "    </tr>\n",
       "    <tr>\n",
       "      <th>25</th>\n",
       "      <td>Fabian Quiroz</td>\n",
       "      <td>Producción</td>\n",
       "      <td>2018-05-07</td>\n",
       "      <td>2021-09-30</td>\n",
       "      <td>1242</td>\n",
       "      <td>N3</td>\n",
       "      <td>Grupo B</td>\n",
       "      <td>3</td>\n",
       "      <td>SI</td>\n",
       "      <td>225000.5</td>\n",
       "      <td>275000.5</td>\n",
       "      <td>Sonia Kamlasky</td>\n",
       "      <td>mejor</td>\n",
       "    </tr>\n",
       "    <tr>\n",
       "      <th>26</th>\n",
       "      <td>Rodrigo Molinas</td>\n",
       "      <td>Compras</td>\n",
       "      <td>2019-06-03</td>\n",
       "      <td>2022-04-30</td>\n",
       "      <td>1062</td>\n",
       "      <td>N2</td>\n",
       "      <td>Grupo A</td>\n",
       "      <td>4</td>\n",
       "      <td>SI</td>\n",
       "      <td>225000.5</td>\n",
       "      <td>225000.5</td>\n",
       "      <td>Marina Pitana</td>\n",
       "      <td>igual</td>\n",
       "    </tr>\n",
       "    <tr>\n",
       "      <th>27</th>\n",
       "      <td>Martina Oliviera</td>\n",
       "      <td>Producción</td>\n",
       "      <td>2020-01-06</td>\n",
       "      <td>2022-06-30</td>\n",
       "      <td>906</td>\n",
       "      <td>N7</td>\n",
       "      <td>Grupo A</td>\n",
       "      <td>4</td>\n",
       "      <td>SI</td>\n",
       "      <td>450000.5</td>\n",
       "      <td>450000.5</td>\n",
       "      <td>Sonia Kamlasky</td>\n",
       "      <td>igual</td>\n",
       "    </tr>\n",
       "    <tr>\n",
       "      <th>28</th>\n",
       "      <td>Dante Martini</td>\n",
       "      <td>IT</td>\n",
       "      <td>2021-03-01</td>\n",
       "      <td>2021-12-31</td>\n",
       "      <td>305</td>\n",
       "      <td>N4</td>\n",
       "      <td>Grupo C</td>\n",
       "      <td>6</td>\n",
       "      <td>NO</td>\n",
       "      <td>275000.5</td>\n",
       "      <td>275000.5</td>\n",
       "      <td>Alejandro Pitorino</td>\n",
       "      <td>igual</td>\n",
       "    </tr>\n",
       "    <tr>\n",
       "      <th>29</th>\n",
       "      <td>Diego Buzos</td>\n",
       "      <td>Auditoria</td>\n",
       "      <td>2021-09-06</td>\n",
       "      <td>2022-06-30</td>\n",
       "      <td>297</td>\n",
       "      <td>N1</td>\n",
       "      <td>Grupo C</td>\n",
       "      <td>3</td>\n",
       "      <td>SI</td>\n",
       "      <td>175000.0</td>\n",
       "      <td>175000.0</td>\n",
       "      <td>Daniel Quiroga</td>\n",
       "      <td>igual</td>\n",
       "    </tr>\n",
       "  </tbody>\n",
       "</table>\n",
       "</div>"
      ],
      "text/plain": [
       "   Nombre Completo Empleado        Area Fecha comienzo   Fecha fin  \\\n",
       "0              Romina Brito   Marketing     2018-03-05  2018-12-31   \n",
       "1               Pedro Lujan     Compras     2017-03-06  2021-12-31   \n",
       "2             Juan Albornoz          IT     2018-06-04  2019-04-30   \n",
       "3        Sebastian González     Legales     2018-05-07  2021-05-30   \n",
       "4          Franco Rodríguez   Marketing     2017-05-01  2017-11-30   \n",
       "5            Catalina Gómez  Producción     2019-04-01  2022-03-31   \n",
       "6        Anabella Fernández      Ventas     2020-07-06  2021-03-31   \n",
       "7           Francesca López     Compras     2017-01-02  2021-06-30   \n",
       "8          Nicolas Martínez          IT     2021-01-04  2021-11-30   \n",
       "9                  Ana Diaz          IT     2017-03-06  2020-11-30   \n",
       "10            Roberto Pérez   Marketing     2019-07-01  2022-04-30   \n",
       "11             Luis Sánchez      Ventas     2020-07-13  2020-12-31   \n",
       "12         Alejandro Romero          IT     2020-06-01  2022-02-28   \n",
       "13              Raul García      Ventas     2019-02-04  2020-03-31   \n",
       "14              Analia Sosa     Compras     2018-10-01  2021-11-30   \n",
       "15           Vanina Benítez          IT     2019-08-05  2020-04-30   \n",
       "16        Guillermo Ramírez          IT     2020-01-06  2022-05-31   \n",
       "17             Pedro Torres   Marketing     2017-04-03  2019-12-31   \n",
       "18               Rocio Ruiz   Auditoria     2018-02-05  2021-01-30   \n",
       "19           Marcelo Flores      Ventas     2021-09-06  2022-05-31   \n",
       "20          Cristian Martin     Compras     2017-11-06  2020-12-31   \n",
       "21           Matias Bosques      Ventas     2018-12-03  2021-06-30   \n",
       "22            Camila Prieto          IT     2022-01-03  2022-07-01   \n",
       "23            Micaela Pauls  Producción     2019-01-07  2021-12-31   \n",
       "24        Carolina Petersen      Ventas     2021-07-05  2022-02-28   \n",
       "25            Fabian Quiroz  Producción     2018-05-07  2021-09-30   \n",
       "26          Rodrigo Molinas     Compras     2019-06-03  2022-04-30   \n",
       "27         Martina Oliviera  Producción     2020-01-06  2022-06-30   \n",
       "28            Dante Martini          IT     2021-03-01  2021-12-31   \n",
       "29              Diego Buzos   Auditoria     2021-09-06  2022-06-30   \n",
       "\n",
       "    Dias transcurridos Nivel Grupo recruitment  Tiempo recruitment  \\\n",
       "0                  301    N3           Grupo B                   3   \n",
       "1                 1761    N3           Grupo B                   3   \n",
       "2                  330    N4           Grupo C                   4   \n",
       "3                 1119    N2           Grupo A                   4   \n",
       "4                  213    N5           Grupo C                   6   \n",
       "5                 1095    N2           Grupo B                   4   \n",
       "6                  268    N4           Grupo A                   3   \n",
       "7                 1640    N3           Grupo A                   4   \n",
       "8                  330    N2           Grupo C                   6   \n",
       "9                 1365    N4           Grupo A                   3   \n",
       "10                1034    N5           Grupo B                   5   \n",
       "11                 171    N5           Grupo C                   5   \n",
       "12                 637    N3           Grupo A                   3   \n",
       "13                 421    N3           Grupo C                   6   \n",
       "14                1156    N4           Grupo A                   4   \n",
       "15                 269    N5           Grupo C                   5   \n",
       "16                 876    N2           Grupo A                   3   \n",
       "17                1002    N3           Grupo B                   4   \n",
       "18                1090    N4           Grupo A                   4   \n",
       "19                 267    N2           Grupo C                   6   \n",
       "20                1151    N5           Grupo C                   4   \n",
       "21                 940    N4           Grupo B                   3   \n",
       "22                 179    N6           Grupo C                   6   \n",
       "23                1089    N6           Grupo A                   5   \n",
       "24                 238    N7           Grupo B                   4   \n",
       "25                1242    N3           Grupo B                   3   \n",
       "26                1062    N2           Grupo A                   4   \n",
       "27                 906    N7           Grupo A                   4   \n",
       "28                 305    N4           Grupo C                   6   \n",
       "29                 297    N1           Grupo C                   3   \n",
       "\n",
       "   Realizo Cursos  RS promedio actual  RS competencia actual  \\\n",
       "0              SI            275000.5               275000.5   \n",
       "1              SI            225000.5               225000.5   \n",
       "2              NO            325000.5               325000.5   \n",
       "3              SI            225000.5               225000.5   \n",
       "4              SI            375000.5               325000.5   \n",
       "5              NO            225000.5               225000.5   \n",
       "6              NO            325000.5               325000.5   \n",
       "7              SI            275000.5               275000.5   \n",
       "8              SI            275000.5               275000.5   \n",
       "9              NO            275000.5               275000.5   \n",
       "10             SI            375000.5               375000.5   \n",
       "11             NO            450000.5               450000.5   \n",
       "12             SI            325000.5               275000.5   \n",
       "13             SI            275000.5               275000.5   \n",
       "14             NO            325000.5               325000.5   \n",
       "15             SI            450000.5               450000.5   \n",
       "16             NO            225000.5               225000.5   \n",
       "17             SI            275000.5               275000.5   \n",
       "18             NO            325000.5               375000.5   \n",
       "19             SI            225000.5               225000.5   \n",
       "20             SI            450000.5               375000.5   \n",
       "21             SI            325000.5               325000.5   \n",
       "22             NO            450000.5               450000.5   \n",
       "23             SI            450000.5               450000.5   \n",
       "24             SI            450000.5               450000.5   \n",
       "25             SI            225000.5               275000.5   \n",
       "26             SI            225000.5               225000.5   \n",
       "27             SI            450000.5               450000.5   \n",
       "28             NO            275000.5               275000.5   \n",
       "29             SI            175000.0               175000.0   \n",
       "\n",
       "   Nombre Completo Manager Diferencia RS competencia  \n",
       "0            Rolando Casas                     igual  \n",
       "1            Marina Pitana                     igual  \n",
       "2       Alejandro Pitorino                     igual  \n",
       "3            José Feligres                     igual  \n",
       "4            Rolando Casas                      peor  \n",
       "5            Miriam Pisani                     igual  \n",
       "6          Ricardo Ronaldo                     igual  \n",
       "7            Marina Pitana                     igual  \n",
       "8       Alejandro Pitorino                     igual  \n",
       "9            Martín Viglia                     igual  \n",
       "10         Vanina Quintana                     igual  \n",
       "11         Ricardo Ronaldo                     igual  \n",
       "12           Martín Viglia                      peor  \n",
       "13         Ricardo Ronaldo                     igual  \n",
       "14           Marina Pitana                     igual  \n",
       "15      Alejandro Pitorino                     igual  \n",
       "16           Martín Viglia                     igual  \n",
       "17         Vanina Quintana                     igual  \n",
       "18          Daniel Quiroga                     mejor  \n",
       "19         Ricardo Ronaldo                     igual  \n",
       "20           Marina Pitana                      peor  \n",
       "21         Ricardo Ronaldo                     igual  \n",
       "22      Alejandro Pitorino                     igual  \n",
       "23           Miriam Pisani                     igual  \n",
       "24         Ricardo Ronaldo                     igual  \n",
       "25          Sonia Kamlasky                     mejor  \n",
       "26           Marina Pitana                     igual  \n",
       "27          Sonia Kamlasky                     igual  \n",
       "28      Alejandro Pitorino                     igual  \n",
       "29          Daniel Quiroga                     igual  "
      ]
     },
     "execution_count": 5,
     "metadata": {},
     "output_type": "execute_result"
    }
   ],
   "source": [
    "df_data"
   ]
  },
  {
   "cell_type": "markdown",
   "id": "4537a700-ab89-4cff-b1d9-c304384e43b1",
   "metadata": {},
   "source": [
    "# 2) Analisis"
   ]
  },
  {
   "cell_type": "markdown",
   "id": "4a7850bb-3dd6-4b71-803b-126315dc6599",
   "metadata": {},
   "source": [
    "¿Cual es el area con mayor desvinculaciones?"
   ]
  },
  {
   "cell_type": "code",
   "execution_count": 6,
   "id": "8a8f426d-aed1-4439-99d0-2ea9c6f87d92",
   "metadata": {},
   "outputs": [
    {
     "data": {
      "text/plain": [
       "(IT            8\n",
       " Ventas        6\n",
       " Compras       5\n",
       " Marketing     4\n",
       " Producción    4\n",
       " Auditoria     2\n",
       " Legales       1\n",
       " Name: Area, dtype: int64,\n",
       " IT            26.666667\n",
       " Ventas        20.000000\n",
       " Compras       16.666667\n",
       " Marketing     13.333333\n",
       " Producción    13.333333\n",
       " Auditoria      6.666667\n",
       " Legales        3.333333\n",
       " Name: Area, dtype: float64)"
      ]
     },
     "execution_count": 6,
     "metadata": {},
     "output_type": "execute_result"
    }
   ],
   "source": [
    "df_data['Area'].value_counts(normalize=False), df_data['Area'].value_counts(normalize=True) * 100"
   ]
  },
  {
   "cell_type": "code",
   "execution_count": 7,
   "id": "18ec0c1a-a384-4eac-bd91-e35e37075760",
   "metadata": {
    "tags": []
   },
   "outputs": [],
   "source": [
    "import matplotlib.pyplot as plt\n",
    "import seaborn as sns"
   ]
  },
  {
   "cell_type": "code",
   "execution_count": 8,
   "id": "246f536f-1857-4e86-8af3-25b60824d64f",
   "metadata": {
    "tags": []
   },
   "outputs": [
    {
     "data": {
      "text/plain": [
       "<Axes: xlabel='count', ylabel='Area'>"
      ]
     },
     "execution_count": 8,
     "metadata": {},
     "output_type": "execute_result"
    },
    {
     "data": {
      "image/png": "[encoded data removed]",
      "text/plain": [
       "<Figure size 640x480 with 1 Axes>"
      ]
     },
     "metadata": {},
     "output_type": "display_data"
    }
   ],
   "source": [
    "sns.countplot(y='Area', data=df_data, order=df_data['Area'].value_counts().index)"
   ]
  },
  {
   "cell_type": "markdown",
   "id": "d54f51b4-b836-4f11-b02f-2bbfd6b87dea",
   "metadata": {},
   "source": [
    "El area de **IT** es la que mas desvinculaciones tuvo (8), seguida del area **Ventas** (6) y **Compras** (5).\n",
    "\n",
    "Esto puede ser porque la gente de IT tiende a cambiar de empresa mas seguido que otras areas."
   ]
  },
  {
   "cell_type": "markdown",
   "id": "0d12e3a8-54b5-42da-8873-d9da960fb3e6",
   "metadata": {},
   "source": [
    "¿Cual es el manager que esta asociado a mas desvinculaciones?"
   ]
  },
  {
   "cell_type": "code",
   "execution_count": 9,
   "id": "a97c4aeb-1049-426c-a44e-fc265aa9804e",
   "metadata": {},
   "outputs": [
    {
     "data": {
      "text/plain": [
       "(Ricardo Ronaldo       6\n",
       " Marina Pitana         5\n",
       " Alejandro Pitorino    5\n",
       " Martín Viglia         3\n",
       " Rolando Casas         2\n",
       " Miriam Pisani         2\n",
       " Vanina Quintana       2\n",
       " Daniel Quiroga        2\n",
       " Sonia Kamlasky        2\n",
       " José Feligres         1\n",
       " Name: Nombre Completo Manager, dtype: int64,\n",
       " Ricardo Ronaldo       20.000000\n",
       " Marina Pitana         16.666667\n",
       " Alejandro Pitorino    16.666667\n",
       " Martín Viglia         10.000000\n",
       " Rolando Casas          6.666667\n",
       " Miriam Pisani          6.666667\n",
       " Vanina Quintana        6.666667\n",
       " Daniel Quiroga         6.666667\n",
       " Sonia Kamlasky         6.666667\n",
       " José Feligres          3.333333\n",
       " Name: Nombre Completo Manager, dtype: float64)"
      ]
     },
     "execution_count": 9,
     "metadata": {},
     "output_type": "execute_result"
    }
   ],
   "source": [
    "df_data['Nombre Completo Manager'].value_counts(normalize=False), df_data['Nombre Completo Manager'].value_counts(normalize=True) * 100"
   ]
  },
  {
   "cell_type": "code",
   "execution_count": 10,
   "id": "7bd6bf23-b55f-493f-8d36-fa1023672267",
   "metadata": {
    "tags": []
   },
   "outputs": [
    {
     "data": {
      "text/plain": [
       "<Axes: xlabel='count', ylabel='Nombre Completo Manager'>"
      ]
     },
     "execution_count": 10,
     "metadata": {},
     "output_type": "execute_result"
    },
    {
     "data": {
      "image/png": "[encoded data removed]",
      "text/plain": [
       "<Figure size 640x480 with 1 Axes>"
      ]
     },
     "metadata": {},
     "output_type": "display_data"
    }
   ],
   "source": [
    "sns.countplot(y='Nombre Completo Manager', data=df_data, order=df_data['Nombre Completo Manager'].value_counts().index)"
   ]
  },
  {
   "cell_type": "markdown",
   "id": "becbcd36-72dd-4bc1-af4e-c5c96de40be1",
   "metadata": {},
   "source": [
    "Hay 3 managers que concentran mas del 50% de las desvinculaciones:\n",
    "* Ricardo Ronaldo (20%)\n",
    "* Marina Pitana (16.67%)\n",
    "* Alejandro Pitorino (16.67%)\n",
    "\n",
    "Esto nos puede indicar que estos managers tengan una peor relacion con los empleados"
   ]
  },
  {
   "cell_type": "code",
   "execution_count": 11,
   "id": "ea177ca7-598e-4d92-9b33-9bd07483a67d",
   "metadata": {
    "tags": []
   },
   "outputs": [],
   "source": [
    "import funpymodeling"
   ]
  },
  {
   "cell_type": "code",
   "execution_count": 12,
   "id": "b1537dcd-c256-4b16-b3d9-dd4351f8d23a",
   "metadata": {
    "tags": []
   },
   "outputs": [],
   "source": [
    "do_course = funpymodeling.freq_tbl(df_data['Realizo Cursos'])"
   ]
  },
  {
   "cell_type": "code",
   "execution_count": 13,
   "id": "1d4f799e-c72f-4407-93e2-062340c2c63d",
   "metadata": {
    "tags": []
   },
   "outputs": [
    {
     "data": {
      "text/html": [
       "<div>\n",
       "<style scoped>\n",
       "    .dataframe tbody tr th:only-of-type {\n",
       "        vertical-align: middle;\n",
       "    }\n",
       "\n",
       "    .dataframe tbody tr th {\n",
       "        vertical-align: top;\n",
       "    }\n",
       "\n",
       "    .dataframe thead th {\n",
       "        text-align: right;\n",
       "    }\n",
       "</style>\n",
       "<table border=\"1\" class=\"dataframe\">\n",
       "  <thead>\n",
       "    <tr style=\"text-align: right;\">\n",
       "      <th></th>\n",
       "      <th>Realizo Cursos</th>\n",
       "      <th>frequency</th>\n",
       "      <th>percentage</th>\n",
       "      <th>cumulative_perc</th>\n",
       "    </tr>\n",
       "  </thead>\n",
       "  <tbody>\n",
       "    <tr>\n",
       "      <th>0</th>\n",
       "      <td>SI</td>\n",
       "      <td>20</td>\n",
       "      <td>0.666667</td>\n",
       "      <td>0.666667</td>\n",
       "    </tr>\n",
       "    <tr>\n",
       "      <th>1</th>\n",
       "      <td>NO</td>\n",
       "      <td>10</td>\n",
       "      <td>0.333333</td>\n",
       "      <td>1.000000</td>\n",
       "    </tr>\n",
       "  </tbody>\n",
       "</table>\n",
       "</div>"
      ],
      "text/plain": [
       "  Realizo Cursos  frequency  percentage  cumulative_perc\n",
       "0             SI         20    0.666667         0.666667\n",
       "1             NO         10    0.333333         1.000000"
      ]
     },
     "execution_count": 13,
     "metadata": {},
     "output_type": "execute_result"
    }
   ],
   "source": [
    "do_course"
   ]
  },
  {
   "cell_type": "code",
   "execution_count": 14,
   "id": "0a2b5a24-cf52-4571-b226-7d027d51ac8c",
   "metadata": {
    "tags": []
   },
   "outputs": [],
   "source": [
    "import matplotlib.pyplot as plt\n",
    "import seaborn as sns"
   ]
  },
  {
   "cell_type": "code",
   "execution_count": 15,
   "id": "b6ccbaf8-bbaa-4460-acff-1e06dd08cca3",
   "metadata": {
    "tags": []
   },
   "outputs": [
    {
     "data": {
      "image/png": "[encoded data removed]",
      "text/plain": [
       "<Figure size 640x480 with 1 Axes>"
      ]
     },
     "metadata": {},
     "output_type": "display_data"
    }
   ],
   "source": [
    "#define data\n",
    "data = do_course['percentage']\n",
    "labels = do_course['Realizo Cursos']\n",
    "\n",
    "#define Seaborn color palette to use\n",
    "colors = sns.color_palette('pastel')[0:5]\n",
    "\n",
    "#create pie chart\n",
    "plt.pie(data, labels=labels, colors=colors, autopct='%.0f%%')\n",
    "plt.title(\"El empleado realizo cursos en la empresa?\")\n",
    "plt.show()"
   ]
  },
  {
   "cell_type": "markdown",
   "id": "648226cd-8d33-407d-939b-dd12fb74425b",
   "metadata": {},
   "source": [
    "El 67% de los empleado realizo cursos dentro de la empresa, por lo que las desvinculaciones no tendrian que ver con que si hay o no capacitaciones dentro de la empresa."
   ]
  },
  {
   "cell_type": "code",
   "execution_count": 16,
   "id": "64f0e4b4-eaad-47cb-8155-1f2d585a10af",
   "metadata": {
    "tags": []
   },
   "outputs": [],
   "source": [
    "diff_rs = funpymodeling.freq_tbl(df_data['Diferencia RS competencia'])"
   ]
  },
  {
   "cell_type": "code",
   "execution_count": 17,
   "id": "90e3ac82-cc80-4be5-a444-3085637f559f",
   "metadata": {
    "tags": []
   },
   "outputs": [
    {
     "data": {
      "text/html": [
       "<div>\n",
       "<style scoped>\n",
       "    .dataframe tbody tr th:only-of-type {\n",
       "        vertical-align: middle;\n",
       "    }\n",
       "\n",
       "    .dataframe tbody tr th {\n",
       "        vertical-align: top;\n",
       "    }\n",
       "\n",
       "    .dataframe thead th {\n",
       "        text-align: right;\n",
       "    }\n",
       "</style>\n",
       "<table border=\"1\" class=\"dataframe\">\n",
       "  <thead>\n",
       "    <tr style=\"text-align: right;\">\n",
       "      <th></th>\n",
       "      <th>Diferencia RS competencia</th>\n",
       "      <th>frequency</th>\n",
       "      <th>percentage</th>\n",
       "      <th>cumulative_perc</th>\n",
       "    </tr>\n",
       "  </thead>\n",
       "  <tbody>\n",
       "    <tr>\n",
       "      <th>0</th>\n",
       "      <td>igual</td>\n",
       "      <td>25</td>\n",
       "      <td>0.833333</td>\n",
       "      <td>0.833333</td>\n",
       "    </tr>\n",
       "    <tr>\n",
       "      <th>1</th>\n",
       "      <td>peor</td>\n",
       "      <td>3</td>\n",
       "      <td>0.100000</td>\n",
       "      <td>0.933333</td>\n",
       "    </tr>\n",
       "    <tr>\n",
       "      <th>2</th>\n",
       "      <td>mejor</td>\n",
       "      <td>2</td>\n",
       "      <td>0.066667</td>\n",
       "      <td>1.000000</td>\n",
       "    </tr>\n",
       "  </tbody>\n",
       "</table>\n",
       "</div>"
      ],
      "text/plain": [
       "  Diferencia RS competencia  frequency  percentage  cumulative_perc\n",
       "0                     igual         25    0.833333         0.833333\n",
       "1                      peor          3    0.100000         0.933333\n",
       "2                     mejor          2    0.066667         1.000000"
      ]
     },
     "execution_count": 17,
     "metadata": {},
     "output_type": "execute_result"
    }
   ],
   "source": [
    "diff_rs"
   ]
  },
  {
   "cell_type": "code",
   "execution_count": 18,
   "id": "74a71ea7-3b38-43dd-95df-15d77210b816",
   "metadata": {
    "tags": []
   },
   "outputs": [
    {
     "data": {
      "image/png": "[encoded data removed]",
      "text/plain": [
       "<Figure size 640x480 with 1 Axes>"
      ]
     },
     "metadata": {},
     "output_type": "display_data"
    }
   ],
   "source": [
    "#define data\n",
    "data = diff_rs['percentage']\n",
    "labels = diff_rs['Diferencia RS competencia']\n",
    "\n",
    "#define Seaborn color palette to use\n",
    "colors = sns.color_palette('pastel')[0:5]\n",
    "\n",
    "#create pie chart\n",
    "plt.pie(data, labels=labels, colors=colors, autopct='%.0f%%')\n",
    "plt.title(\"Cambio de rango salarial en la nueva empresa\")\n",
    "plt.show()"
   ]
  },
  {
   "cell_type": "markdown",
   "id": "fc6cf6ef-0f82-420a-94d7-e131a01a3d7d",
   "metadata": {},
   "source": [
    "Aca vemos que la gran mayoria de los empleados no va a ganar mejor en la nueva empresa (83% va a ganar igual e incluso el 10% se va a rebajar el sueldo).\n",
    "\n",
    "Por lo que, el factor sueldo no es un indicativo de la desvinculacion."
   ]
  },
  {
   "cell_type": "markdown",
   "id": "47aca227-7365-4430-aa01-c3730fb46333",
   "metadata": {},
   "source": [
    "¿Habra algun Grupo de Recruitment en donde se concentre la mayor cantidad de desvinculaciones?"
   ]
  },
  {
   "cell_type": "code",
   "execution_count": 19,
   "id": "c4f3f34f-628d-4362-bc47-b8ad52e02046",
   "metadata": {
    "tags": []
   },
   "outputs": [
    {
     "data": {
      "text/plain": [
       "(Grupo C    11\n",
       " Grupo A    11\n",
       " Grupo B     8\n",
       " Name: Grupo recruitment, dtype: int64,\n",
       " Grupo C    36.666667\n",
       " Grupo A    36.666667\n",
       " Grupo B    26.666667\n",
       " Name: Grupo recruitment, dtype: float64)"
      ]
     },
     "execution_count": 19,
     "metadata": {},
     "output_type": "execute_result"
    }
   ],
   "source": [
    "df_data['Grupo recruitment'].value_counts(normalize=False), df_data['Grupo recruitment'].value_counts(normalize=True) * 100"
   ]
  },
  {
   "cell_type": "code",
   "execution_count": 20,
   "id": "45a2f768-30c9-4bb2-aa1f-7d75afe9ead0",
   "metadata": {
    "tags": []
   },
   "outputs": [
    {
     "data": {
      "text/plain": [
       "<Axes: xlabel='count', ylabel='Grupo recruitment'>"
      ]
     },
     "execution_count": 20,
     "metadata": {},
     "output_type": "execute_result"
    },
    {
     "data": {
      "image/png": "[encoded data removed]",
      "text/plain": [
       "<Figure size 640x480 with 1 Axes>"
      ]
     },
     "metadata": {},
     "output_type": "display_data"
    }
   ],
   "source": [
    "sns.countplot(y='Grupo recruitment', data=df_data, order=df_data['Grupo recruitment'].value_counts().index)"
   ]
  },
  {
   "cell_type": "markdown",
   "id": "84c2385d-d965-4f64-aa00-59f5bd486120",
   "metadata": {},
   "source": [
    "No hay una diferencia significativa entre los grupos como sacar una conclusion."
   ]
  },
  {
   "cell_type": "markdown",
   "id": "59db857c-f794-441a-9cfe-de713876e87d",
   "metadata": {},
   "source": [
    "¿Que nivel de empleado es el que mas tiende a desvincularse?"
   ]
  },
  {
   "cell_type": "code",
   "execution_count": 21,
   "id": "74a4f036-b39d-46fe-bcc7-b09425eeeac5",
   "metadata": {
    "tags": []
   },
   "outputs": [
    {
     "data": {
      "text/plain": [
       "(N3    7\n",
       " N4    7\n",
       " N2    6\n",
       " N5    5\n",
       " N6    2\n",
       " N7    2\n",
       " N1    1\n",
       " Name: Nivel, dtype: int64,\n",
       " N3    23.333333\n",
       " N4    23.333333\n",
       " N2    20.000000\n",
       " N5    16.666667\n",
       " N6     6.666667\n",
       " N7     6.666667\n",
       " N1     3.333333\n",
       " Name: Nivel, dtype: float64)"
      ]
     },
     "execution_count": 21,
     "metadata": {},
     "output_type": "execute_result"
    }
   ],
   "source": [
    "df_data['Nivel'].value_counts(normalize=False), df_data['Nivel'].value_counts(normalize=True) * 100"
   ]
  },
  {
   "cell_type": "code",
   "execution_count": 22,
   "id": "bc6a55dd-cff7-4992-bce9-5d25d2dc8c6e",
   "metadata": {
    "tags": []
   },
   "outputs": [
    {
     "data": {
      "text/plain": [
       "<Axes: xlabel='count', ylabel='Nivel'>"
      ]
     },
     "execution_count": 22,
     "metadata": {},
     "output_type": "execute_result"
    },
    {
     "data": {
      "image/png": "[encoded data removed]",
      "text/plain": [
       "<Figure size 640x480 with 1 Axes>"
      ]
     },
     "metadata": {},
     "output_type": "display_data"
    }
   ],
   "source": [
    "sns.countplot(y='Nivel', data=df_data, order=df_data['Nivel'].value_counts().index)"
   ]
  },
  {
   "cell_type": "markdown",
   "id": "3d0594d6-0389-432f-8ec1-1d01db946cf7",
   "metadata": {},
   "source": [
    "A partir de esto podemos sacar unas conclusiones:\n",
    "* Los niveles 1, 6 y 7 se quedan en la empresa por dos posibles razones: estabilidad laboral (nivel 6 y 7) y comienzo en el muendo laboral (nivel 1)\n",
    "* Los nivels 3, 4, y 2 tienen a desvinculares para ganar experiencia en otras compañias"
   ]
  },
  {
   "cell_type": "markdown",
   "id": "3ef2f2a9-4efa-4529-8ec1-f8a4c55c7b54",
   "metadata": {},
   "source": [
    "Veamos cuales son las Areas en donde las desvinculaciones son mas frecuentes"
   ]
  },
  {
   "cell_type": "code",
   "execution_count": 23,
   "id": "20377271-d05e-4a2b-995a-280b54a33a21",
   "metadata": {
    "tags": []
   },
   "outputs": [
    {
     "name": "stdout",
     "output_type": "stream",
     "text": [
      "(7, 2)\n"
     ]
    },
    {
     "data": {
      "text/html": [
       "<div>\n",
       "<style scoped>\n",
       "    .dataframe tbody tr th:only-of-type {\n",
       "        vertical-align: middle;\n",
       "    }\n",
       "\n",
       "    .dataframe tbody tr th {\n",
       "        vertical-align: top;\n",
       "    }\n",
       "\n",
       "    .dataframe thead th {\n",
       "        text-align: right;\n",
       "    }\n",
       "</style>\n",
       "<table border=\"1\" class=\"dataframe\">\n",
       "  <thead>\n",
       "    <tr style=\"text-align: right;\">\n",
       "      <th></th>\n",
       "      <th>Area</th>\n",
       "      <th>Dias transcurridos</th>\n",
       "    </tr>\n",
       "  </thead>\n",
       "  <tbody>\n",
       "    <tr>\n",
       "      <th>6</th>\n",
       "      <td>Ventas</td>\n",
       "      <td>384.166667</td>\n",
       "    </tr>\n",
       "    <tr>\n",
       "      <th>2</th>\n",
       "      <td>IT</td>\n",
       "      <td>536.375000</td>\n",
       "    </tr>\n",
       "    <tr>\n",
       "      <th>4</th>\n",
       "      <td>Marketing</td>\n",
       "      <td>637.500000</td>\n",
       "    </tr>\n",
       "    <tr>\n",
       "      <th>0</th>\n",
       "      <td>Auditoria</td>\n",
       "      <td>693.500000</td>\n",
       "    </tr>\n",
       "    <tr>\n",
       "      <th>5</th>\n",
       "      <td>Producción</td>\n",
       "      <td>1083.000000</td>\n",
       "    </tr>\n",
       "    <tr>\n",
       "      <th>3</th>\n",
       "      <td>Legales</td>\n",
       "      <td>1119.000000</td>\n",
       "    </tr>\n",
       "    <tr>\n",
       "      <th>1</th>\n",
       "      <td>Compras</td>\n",
       "      <td>1354.000000</td>\n",
       "    </tr>\n",
       "  </tbody>\n",
       "</table>\n",
       "</div>"
      ],
      "text/plain": [
       "         Area  Dias transcurridos\n",
       "6      Ventas          384.166667\n",
       "2          IT          536.375000\n",
       "4   Marketing          637.500000\n",
       "0   Auditoria          693.500000\n",
       "5  Producción         1083.000000\n",
       "3     Legales         1119.000000\n",
       "1     Compras         1354.000000"
      ]
     },
     "metadata": {},
     "output_type": "display_data"
    }
   ],
   "source": [
    "df_data_grouped = df_data.groupby(['Area']).aggregate({'Dias transcurridos': 'mean'})\n",
    "df_data_grouped = df_data_grouped.reset_index()\n",
    "\n",
    "print(df_data_grouped.shape)\n",
    "display(df_data_grouped.sort_values('Dias transcurridos', ascending=True))"
   ]
  },
  {
   "cell_type": "markdown",
   "id": "c5980a01-0e16-4f1e-9f24-a7e86c1a5d7e",
   "metadata": {
    "tags": []
   },
   "source": [
    "En la tabla podemos notar que las Areas en donde las desvinculaciones son mas frecuentes son:\n",
    "* Ventas\n",
    "* IT\n",
    "* Marketing"
   ]
  },
  {
   "cell_type": "markdown",
   "id": "5dfd573c-3c43-4dbf-9736-d9cb24c0deea",
   "metadata": {},
   "source": [
    "¿Habra alguna relacion entre los manager que concentran las mayores desvinculaciones y las areas?"
   ]
  },
  {
   "cell_type": "code",
   "execution_count": 24,
   "id": "d36dcf48-3ac1-4b59-b763-dec91c5f1bca",
   "metadata": {
    "tags": []
   },
   "outputs": [
    {
     "data": {
      "text/html": [
       "<div>\n",
       "<style scoped>\n",
       "    .dataframe tbody tr th:only-of-type {\n",
       "        vertical-align: middle;\n",
       "    }\n",
       "\n",
       "    .dataframe tbody tr th {\n",
       "        vertical-align: top;\n",
       "    }\n",
       "\n",
       "    .dataframe thead th {\n",
       "        text-align: right;\n",
       "    }\n",
       "</style>\n",
       "<table border=\"1\" class=\"dataframe\">\n",
       "  <thead>\n",
       "    <tr style=\"text-align: right;\">\n",
       "      <th>Nombre Completo Manager</th>\n",
       "      <th>Alejandro Pitorino</th>\n",
       "      <th>Daniel Quiroga</th>\n",
       "      <th>José Feligres</th>\n",
       "      <th>Marina Pitana</th>\n",
       "      <th>Martín Viglia</th>\n",
       "      <th>Miriam Pisani</th>\n",
       "      <th>Ricardo Ronaldo</th>\n",
       "      <th>Rolando Casas</th>\n",
       "      <th>Sonia Kamlasky</th>\n",
       "      <th>Vanina Quintana</th>\n",
       "    </tr>\n",
       "    <tr>\n",
       "      <th>Area</th>\n",
       "      <th></th>\n",
       "      <th></th>\n",
       "      <th></th>\n",
       "      <th></th>\n",
       "      <th></th>\n",
       "      <th></th>\n",
       "      <th></th>\n",
       "      <th></th>\n",
       "      <th></th>\n",
       "      <th></th>\n",
       "    </tr>\n",
       "  </thead>\n",
       "  <tbody>\n",
       "    <tr>\n",
       "      <th>Auditoria</th>\n",
       "      <td>0</td>\n",
       "      <td>2</td>\n",
       "      <td>0</td>\n",
       "      <td>0</td>\n",
       "      <td>0</td>\n",
       "      <td>0</td>\n",
       "      <td>0</td>\n",
       "      <td>0</td>\n",
       "      <td>0</td>\n",
       "      <td>0</td>\n",
       "    </tr>\n",
       "    <tr>\n",
       "      <th>Compras</th>\n",
       "      <td>0</td>\n",
       "      <td>0</td>\n",
       "      <td>0</td>\n",
       "      <td>5</td>\n",
       "      <td>0</td>\n",
       "      <td>0</td>\n",
       "      <td>0</td>\n",
       "      <td>0</td>\n",
       "      <td>0</td>\n",
       "      <td>0</td>\n",
       "    </tr>\n",
       "    <tr>\n",
       "      <th>IT</th>\n",
       "      <td>5</td>\n",
       "      <td>0</td>\n",
       "      <td>0</td>\n",
       "      <td>0</td>\n",
       "      <td>3</td>\n",
       "      <td>0</td>\n",
       "      <td>0</td>\n",
       "      <td>0</td>\n",
       "      <td>0</td>\n",
       "      <td>0</td>\n",
       "    </tr>\n",
       "    <tr>\n",
       "      <th>Legales</th>\n",
       "      <td>0</td>\n",
       "      <td>0</td>\n",
       "      <td>1</td>\n",
       "      <td>0</td>\n",
       "      <td>0</td>\n",
       "      <td>0</td>\n",
       "      <td>0</td>\n",
       "      <td>0</td>\n",
       "      <td>0</td>\n",
       "      <td>0</td>\n",
       "    </tr>\n",
       "    <tr>\n",
       "      <th>Marketing</th>\n",
       "      <td>0</td>\n",
       "      <td>0</td>\n",
       "      <td>0</td>\n",
       "      <td>0</td>\n",
       "      <td>0</td>\n",
       "      <td>0</td>\n",
       "      <td>0</td>\n",
       "      <td>2</td>\n",
       "      <td>0</td>\n",
       "      <td>2</td>\n",
       "    </tr>\n",
       "    <tr>\n",
       "      <th>Producción</th>\n",
       "      <td>0</td>\n",
       "      <td>0</td>\n",
       "      <td>0</td>\n",
       "      <td>0</td>\n",
       "      <td>0</td>\n",
       "      <td>2</td>\n",
       "      <td>0</td>\n",
       "      <td>0</td>\n",
       "      <td>2</td>\n",
       "      <td>0</td>\n",
       "    </tr>\n",
       "    <tr>\n",
       "      <th>Ventas</th>\n",
       "      <td>0</td>\n",
       "      <td>0</td>\n",
       "      <td>0</td>\n",
       "      <td>0</td>\n",
       "      <td>0</td>\n",
       "      <td>0</td>\n",
       "      <td>6</td>\n",
       "      <td>0</td>\n",
       "      <td>0</td>\n",
       "      <td>0</td>\n",
       "    </tr>\n",
       "  </tbody>\n",
       "</table>\n",
       "</div>"
      ],
      "text/plain": [
       "Nombre Completo Manager  Alejandro Pitorino  Daniel Quiroga  José Feligres  \\\n",
       "Area                                                                         \n",
       "Auditoria                                 0               2              0   \n",
       "Compras                                   0               0              0   \n",
       "IT                                        5               0              0   \n",
       "Legales                                   0               0              1   \n",
       "Marketing                                 0               0              0   \n",
       "Producción                                0               0              0   \n",
       "Ventas                                    0               0              0   \n",
       "\n",
       "Nombre Completo Manager  Marina Pitana  Martín Viglia  Miriam Pisani  \\\n",
       "Area                                                                   \n",
       "Auditoria                            0              0              0   \n",
       "Compras                              5              0              0   \n",
       "IT                                   0              3              0   \n",
       "Legales                              0              0              0   \n",
       "Marketing                            0              0              0   \n",
       "Producción                           0              0              2   \n",
       "Ventas                               0              0              0   \n",
       "\n",
       "Nombre Completo Manager  Ricardo Ronaldo  Rolando Casas  Sonia Kamlasky  \\\n",
       "Area                                                                      \n",
       "Auditoria                              0              0               0   \n",
       "Compras                                0              0               0   \n",
       "IT                                     0              0               0   \n",
       "Legales                                0              0               0   \n",
       "Marketing                              0              2               0   \n",
       "Producción                             0              0               2   \n",
       "Ventas                                 6              0               0   \n",
       "\n",
       "Nombre Completo Manager  Vanina Quintana  \n",
       "Area                                      \n",
       "Auditoria                              0  \n",
       "Compras                                0  \n",
       "IT                                     0  \n",
       "Legales                                0  \n",
       "Marketing                              2  \n",
       "Producción                             0  \n",
       "Ventas                                 0  "
      ]
     },
     "execution_count": 24,
     "metadata": {},
     "output_type": "execute_result"
    }
   ],
   "source": [
    "pd.crosstab(df_data['Area'], df_data['Nombre Completo Manager'])"
   ]
  },
  {
   "cell_type": "code",
   "execution_count": 25,
   "id": "7af44651-ba52-4921-b485-48ac942f7586",
   "metadata": {
    "tags": []
   },
   "outputs": [
    {
     "data": {
      "text/plain": [
       "<Axes: xlabel='Nombre Completo Manager', ylabel='Area'>"
      ]
     },
     "execution_count": 25,
     "metadata": {},
     "output_type": "execute_result"
    },
    {
     "data": {
      "image/png": "[encoded data removed]",
      "text/plain": [
       "<Figure size 640x480 with 1 Axes>"
      ]
     },
     "metadata": {},
     "output_type": "display_data"
    }
   ],
   "source": [
    "sns.heatmap(\n",
    "    pd.crosstab(df_data['Area'], df_data['Nombre Completo Manager']),\n",
    "    cmap=\"YlGnBu\", annot=True, cbar=False,\n",
    ")"
   ]
  },
  {
   "cell_type": "markdown",
   "id": "9b5cde9c-74f0-42d4-9810-935d02b3876f",
   "metadata": {},
   "source": [
    "Ya habiamos visto que el area con mayor cantidad de desvinculaciones es la de **IT** (8) y en dicha Area el manager que mas veces aparece es **Alejandro Pitorino** (5). Por lo que este manager es reponsable del 62,5% de las desvinculaciones.\n",
    "\n",
    "El area que le sigue es **Ventas** (6) y el manger asociado es **Ricardo Ronaldo** (6). Por lo que este manager es reponsable del 100% de las desvinculaciones."
   ]
  },
  {
   "cell_type": "markdown",
   "id": "a8ab44c8-0aa3-489a-88a6-ac006065a1cb",
   "metadata": {},
   "source": [
    "# 3) Conclusiones"
   ]
  },
  {
   "cell_type": "markdown",
   "id": "62ad6e58-e469-46f6-9a79-17de3cf30941",
   "metadata": {},
   "source": [
    "Para que la empresa sufra menos desvinculaciones, la empresa necesitaria capacitar mejor a los manager en cuestiones relacionadas al trato con los empleados."
   ]
  },
  {
   "cell_type": "code",
   "execution_count": null,
   "id": "80be39fc-bbbc-44a1-bb6e-3a92561e2373",
   "metadata": {},
   "outputs": [],
   "source": []
  }
 ],
 "metadata": {
  "kernelspec": {
   "display_name": "Python 3 (ipykernel)",
   "language": "python",
   "name": "python3"
  },
  "language_info": {
   "codemirror_mode": {
    "name": "ipython",
    "version": 3
   },
   "file_extension": ".py",
   "mimetype": "text/x-python",
   "name": "python",
   "nbconvert_exporter": "python",
   "pygments_lexer": "ipython3",
   "version": "3.9.16"
  }
 },
 "nbformat": 4,
 "nbformat_minor": 5
}
